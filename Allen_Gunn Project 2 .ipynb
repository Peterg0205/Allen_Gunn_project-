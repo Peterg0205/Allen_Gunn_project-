{
 "cells": [
  {
   "cell_type": "code",
<<<<<<< HEAD
   "execution_count": 3,
   "id": "d8294960",
=======
   "execution_count": null,
   "id": "77ede5c5",
>>>>>>> d1e6b2b745f2ca457ffd2bf7da9e82620200f05c
   "metadata": {},
   "outputs": [],
   "source": [
    "import pandas as pd \n",
<<<<<<< HEAD
    "import os \n",
    "import requests\n",
    "import json\n",
    "from pprint import pprint "
   ]
  },
  {
   "cell_type": "code",
   "execution_count": null,
   "id": "8cdf29a7",
   "metadata": {},
   "outputs": [],
   "source": []
=======
    "from sqlalchemy import create_engine\n",
    "import requests\n",
    "from census import Census\n",
    "import json "
   ]
>>>>>>> d1e6b2b745f2ca457ffd2bf7da9e82620200f05c
  }
 ],
 "metadata": {
  "kernelspec": {
   "display_name": "Python 3 (ipykernel)",
   "language": "python",
   "name": "python3"
  },
  "language_info": {
   "codemirror_mode": {
    "name": "ipython",
    "version": 3
   },
   "file_extension": ".py",
   "mimetype": "text/x-python",
   "name": "python",
   "nbconvert_exporter": "python",
   "pygments_lexer": "ipython3",
   "version": "3.9.7"
  }
 },
 "nbformat": 4,
 "nbformat_minor": 5
}
